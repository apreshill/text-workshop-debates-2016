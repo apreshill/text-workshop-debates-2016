{
 "cells": [
  {
   "cell_type": "markdown",
   "metadata": {},
   "source": [
    "# Step 2: Let's count syllables!"
   ]
  },
  {
   "cell_type": "markdown",
   "metadata": {},
   "source": [
    "## Counting Syllables\n",
    "\n",
    "Listening to various candidates talk, it is immediately apparent that they have different speaking styles, and use different words. \n",
    "\n",
    "`nltk` comes with the Carnegie-Mellon pronounciation dictionary, which has pretty good English coverage (≈134k words). It lets us translate a lexical item (e.g. \"monkey\") into ARPAbet (e.g. \"M AH1 NG K IY0\"). In Arpabet, the numbers at the end of the vowel phonemes indicate which are pronounced as stressed vowels. Obviously, in reality, pronounciation will vary according to accent, etc., but this is a \"good enough\" place to start. \n",
    "\n",
    "We can use the CMU pronounciation dictionary (_cmudict_) to get a quick-and-dirty count of how many syllables a word has by simply counting vowel phonemes:"
   ]
  },
  {
   "cell_type": "code",
   "execution_count": 1,
   "metadata": {
    "collapsed": true
   },
   "outputs": [],
   "source": [
    "import nltk\n",
    "import re\n",
    "cmu = nltk.corpus.cmudict.dict()"
   ]
  },
  {
   "cell_type": "code",
   "execution_count": 2,
   "metadata": {
    "collapsed": false
   },
   "outputs": [],
   "source": [
    "def syllable_count(w):\n",
    "    vowel_pattern = re.compile(\".+\\d$\")\n",
    "    try:\n",
    "        syllables = cmu[w.lower()][0] # we only care about the first pronounciation variant\n",
    "    except KeyError: # if w is not in the CMU dictionary\n",
    "        # there are several possible ways to deal with this situation; returning -1 is a bit ugly, \n",
    "        # but has the advantage of being easy to filter out later.\n",
    "        return -1 \n",
    "    vowel_syllables = [s for s in syllables if vowel_pattern.match(s)]\n",
    "    return len(vowel_syllables)"
   ]
  },
  {
   "cell_type": "code",
   "execution_count": 3,
   "metadata": {
    "collapsed": false,
    "scrolled": false
   },
   "outputs": [
    {
     "data": {
      "text/plain": [
       "2"
      ]
     },
     "execution_count": 3,
     "metadata": {},
     "output_type": "execute_result"
    }
   ],
   "source": [
    "syllable_count(\"monkey\")"
   ]
  },
  {
   "cell_type": "markdown",
   "metadata": {},
   "source": [
    "This is, without a doubt, an imperfect method, but will be good enough for starters. "
   ]
  }
 ],
 "metadata": {
  "kernelspec": {
   "display_name": "Python 3",
   "language": "python",
   "name": "python3"
  },
  "language_info": {
   "codemirror_mode": {
    "name": "ipython",
    "version": 3
   },
   "file_extension": ".py",
   "mimetype": "text/x-python",
   "name": "python",
   "nbconvert_exporter": "python",
   "pygments_lexer": "ipython3",
   "version": "3.5.1"
  }
 },
 "nbformat": 4,
 "nbformat_minor": 0
}
